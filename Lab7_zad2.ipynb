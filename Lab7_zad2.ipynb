{
 "cells": [
  {
   "cell_type": "code",
   "execution_count": 19,
   "metadata": {},
   "outputs": [],
   "source": [
    "# potrzebna biblioteka nltk\n",
    "from nltk.tokenize import sent_tokenize, word_tokenize\n",
    "import nltk\n",
    "#nltk.download('punkt')"
   ]
  },
  {
   "cell_type": "code",
   "execution_count": 29,
   "metadata": {},
   "outputs": [],
   "source": [
    "tekst = \"\"\"\n",
    "Człowiek może zrozumieć język, zanim nauczy się czytać. Maszyny nie mają tego fonetycznego początku. Nie wiedząc nic o języku, trzeba opracować systemy, które umożliwią im przetwarzanie tekstu bez zdolności, podobnie jak ludzi, do kojarzenia dźwięków ze znaczeniem słów.\n",
    "Jak maszyny mogą rozpocząć przetwarzanie tekstu, jeśli nie wiedzą nic o gramatyce, dźwiękach, słowach lub zdaniach? Możesz tworzyć reguły, które każą maszynie przetwarzać tekst, aby umożliwić mu wyszukiwanie typu słownikowego. Jednak w tym scenariuszu maszyna niczego się nie uczy i musiałbyś mieć statyczny zestaw danych dla każdej możliwej kombinacji słów i wszystkich ich wariantów gramatycznych.\n",
    "Zamiast trenować maszynę do wyszukiwania ustalonych słowników, trzeba nauczyć maszyny rozpoznawania i „czytania” tekstu w taki sposób, aby mógł uczyć się na podstawie tej akcji. Innymi słowy, im więcej czyta, tym więcej się uczy. Ludzie robią to, wykorzystując sposób, w jaki wcześniej nauczyli się dźwięków fonetycznych. Maszyny nie mają tej wiedzy, aby je wykorzystać, dlatego trzeba im powiedzieć, jak podzielić tekst na standardowe jednostki, aby go przetworzyć. Robią to za pomocą systemu zwanego „tokenizacją”, w którym sekwencje tekstu są dzielone na mniejsze części lub „tokeny”, a następnie wprowadzane jako dane wejściowe do modelu głębokiego uczenia NLP, takiego jak BERT. Ale zanim przyjrzymy się różnym sposobom tokenizacji tekstu, najpierw sprawdźmy, czy naprawdę musimy w ogóle używać tokenizacji.\n",
    "\"\"\""
   ]
  },
  {
   "cell_type": "code",
   "execution_count": 46,
   "metadata": {},
   "outputs": [],
   "source": [
    "#usuwanie znaków interpunkcyjnych\n",
    "import string\n",
    "for char in string.punctuation:\n",
    "    tekst = tekst.replace(char, '')"
   ]
  },
  {
   "cell_type": "code",
   "execution_count": 47,
   "metadata": {},
   "outputs": [
    {
     "name": "stdout",
     "output_type": "stream",
     "text": [
      "['Człowiek', 'może', 'zrozumieć', 'język', 'zanim', 'nauczy', 'się', 'czytać', 'Maszyny', 'nie', 'mają', 'tego', 'fonetycznego', 'początku', 'Nie', 'wiedząc', 'nic', 'o', 'języku', 'trzeba', 'opracować', 'systemy', 'które', 'umożliwią', 'im', 'przetwarzanie', 'tekstu', 'bez', 'zdolności', 'podobnie', 'jak', 'ludzi', 'do', 'kojarzenia', 'dźwięków', 'ze', 'znaczeniem', 'słów', 'Jak', 'maszyny', 'mogą', 'rozpocząć', 'przetwarzanie', 'tekstu', 'jeśli', 'nie', 'wiedzą', 'nic', 'o', 'gramatyce', 'dźwiękach', 'słowach', 'lub', 'zdaniach', 'Możesz', 'tworzyć', 'reguły', 'które', 'każą', 'maszynie', 'przetwarzać', 'tekst', 'aby', 'umożliwić', 'mu', 'wyszukiwanie', 'typu', 'słownikowego', 'Jednak', 'w', 'tym', 'scenariuszu', 'maszyna', 'niczego', 'się', 'nie', 'uczy', 'i', 'musiałbyś', 'mieć', 'statyczny', 'zestaw', 'danych', 'dla', 'każdej', 'możliwej', 'kombinacji', 'słów', 'i', 'wszystkich', 'ich', 'wariantów', 'gramatycznych', 'Zamiast', 'trenować', 'maszynę', 'do', 'wyszukiwania', 'ustalonych', 'słowników', 'trzeba', 'nauczyć', 'maszyny', 'rozpoznawania', 'i', '„', 'czytania', '”', 'tekstu', 'w', 'taki', 'sposób', 'aby', 'mógł', 'uczyć', 'się', 'na', 'podstawie', 'tej', 'akcji', 'Innymi', 'słowy', 'im', 'więcej', 'czyta', 'tym', 'więcej', 'się', 'uczy', 'Ludzie', 'robią', 'to', 'wykorzystując', 'sposób', 'w', 'jaki', 'wcześniej', 'nauczyli', 'się', 'dźwięków', 'fonetycznych', 'Maszyny', 'nie', 'mają', 'tej', 'wiedzy', 'aby', 'je', 'wykorzystać', 'dlatego', 'trzeba', 'im', 'powiedzieć', 'jak', 'podzielić', 'tekst', 'na', 'standardowe', 'jednostki', 'aby', 'go', 'przetworzyć', 'Robią', 'to', 'za', 'pomocą', 'systemu', 'zwanego', '„', 'tokenizacją', '”', 'w', 'którym', 'sekwencje', 'tekstu', 'są', 'dzielone', 'na', 'mniejsze', 'części', 'lub', '„', 'tokeny', '”', 'a', 'następnie', 'wprowadzane', 'jako', 'dane', 'wejściowe', 'do', 'modelu', 'głębokiego', 'uczenia', 'NLP', 'takiego', 'jak', 'BERT', 'Ale', 'zanim', 'przyjrzymy', 'się', 'różnym', 'sposobom', 'tokenizacji', 'tekstu', 'najpierw', 'sprawdźmy', 'czy', 'naprawdę', 'musimy', 'w', 'ogóle', 'używać', 'tokenizacji']\n"
     ]
    }
   ],
   "source": [
    "#tokenizacja po słowach\n",
    "print(word_tokenize(tekst))"
   ]
  },
  {
   "cell_type": "code",
   "execution_count": 48,
   "metadata": {},
   "outputs": [],
   "source": [
    "from nltk.corpus import stopwords\n",
    "from nltk.tokenize import word_tokenize"
   ]
  },
  {
   "cell_type": "code",
   "execution_count": 49,
   "metadata": {},
   "outputs": [
    {
     "name": "stdout",
     "output_type": "stream",
     "text": [
      "['a', 'aby', 'ach', 'acz', 'aczkolwiek', 'aj', 'albo', 'ale', 'alez', 'ależ', 'ani', 'az', 'aż', 'bardziej', 'bardzo', 'beda', 'bedzie', 'bez', 'deda', 'będą', 'bede', 'będę', 'będzie', 'bo', 'bowiem', 'by', 'byc', 'być', 'byl', 'byla', 'byli', 'bylo', 'byly', 'był', 'była', 'było', 'były', 'bynajmniej', 'cala', 'cali', 'caly', 'cała', 'cały', 'ci', 'cie', 'ciebie', 'cię', 'co', 'cokolwiek', 'cos', 'coś', 'czasami', 'czasem', 'czemu', 'czy', 'czyli', 'daleko', 'dla', 'dlaczego', 'dlatego', 'do', 'dobrze', 'dokad', 'dokąd', 'dosc', 'dość', 'duzo', 'dużo', 'dwa', 'dwaj', 'dwie', 'dwoje', 'dzis', 'dzisiaj', 'dziś', 'gdy', 'gdyby', 'gdyz', 'gdyż', 'gdzie', 'gdziekolwiek', 'gdzies', 'gdzieś', 'go', 'i', 'ich', 'ile', 'im', 'inna', 'inne', 'inny', 'innych', 'iz', 'iż', 'ja', 'jak', 'jakas', 'jakaś', 'jakby', 'jaki', 'jakichs', 'jakichś', 'jakie', 'jakis', 'jakiś', 'jakiz', 'jakiż', 'jakkolwiek', 'jako', 'jakos', 'jakoś', 'ją', 'je', 'jeden', 'jedna', 'jednak', 'jednakze', 'jednakże', 'jedno', 'jego', 'jej', 'jemu', 'jesli', 'jest', 'jestem', 'jeszcze', 'jeśli', 'jezeli', 'jeżeli', 'juz', 'już', 'kazdy', 'każdy', 'kiedy', 'kilka', 'kims', 'kimś', 'kto', 'ktokolwiek', 'ktora', 'ktore', 'ktorego', 'ktorej', 'ktory', 'ktorych', 'ktorym', 'ktorzy', 'ktos', 'ktoś', 'która', 'które', 'którego', 'której', 'który', 'których', 'którym', 'którzy', 'ku', 'lat', 'lecz', 'lub', 'ma', 'mają', 'mało', 'mam', 'mi', 'miedzy', 'między', 'mimo', 'mna', 'mną', 'mnie', 'moga', 'mogą', 'moi', 'moim', 'moj', 'moja', 'moje', 'moze', 'mozliwe', 'mozna', 'może', 'możliwe', 'można', 'mój', 'mu', 'musi', 'my', 'na', 'nad', 'nam', 'nami', 'nas', 'nasi', 'nasz', 'nasza', 'nasze', 'naszego', 'naszych', 'natomiast', 'natychmiast', 'nawet', 'nia', 'nią', 'nic', 'nich', 'nie', 'niech', 'niego', 'niej', 'niemu', 'nigdy', 'nim', 'nimi', 'niz', 'niż', 'no', 'o', 'obok', 'od', 'około', 'on', 'ona', 'one', 'oni', 'ono', 'oraz', 'oto', 'owszem', 'pan', 'pana', 'pani', 'po', 'pod', 'podczas', 'pomimo', 'ponad', 'poniewaz', 'ponieważ', 'powinien', 'powinna', 'powinni', 'powinno', 'poza', 'prawie', 'przeciez', 'przecież', 'przed', 'przede', 'przedtem', 'przez', 'przy', 'roku', 'rowniez', 'również', 'sam', 'sama', 'są', 'sie', 'się', 'skad', 'skąd', 'soba', 'sobą', 'sobie', 'sposob', 'sposób', 'swoje', 'ta', 'tak', 'taka', 'taki', 'takie', 'takze', 'także', 'tam', 'te', 'tego', 'tej', 'ten', 'teraz', 'też', 'to', 'toba', 'tobą', 'tobie', 'totez', 'toteż', 'totobą', 'trzeba', 'tu', 'tutaj', 'twoi', 'twoim', 'twoj', 'twoja', 'twoje', 'twój', 'twym', 'ty', 'tych', 'tylko', 'tym', 'u', 'w', 'wam', 'wami', 'was', 'wasz', 'wasza', 'wasze', 'we', 'według', 'wiele', 'wielu', 'więc', 'więcej', 'wlasnie', 'właśnie', 'wszyscy', 'wszystkich', 'wszystkie', 'wszystkim', 'wszystko', 'wtedy', 'wy', 'z', 'za', 'zaden', 'zadna', 'zadne', 'zadnych', 'zapewne', 'zawsze', 'ze', 'zeby', 'zeznowu', 'zł', 'znow', 'znowu', 'znów', 'zostal', 'został', 'żaden', 'żadna', 'żadne', 'żadnych', 'że', 'żeby']\n"
     ]
    }
   ],
   "source": [
    "#wczytanie listy pomijanych słów\n",
    "my_file = open(\"polish.txt\", \"r\")\n",
    "content_list = my_file.read().splitlines()\n",
    "print(content_list)"
   ]
  },
  {
   "cell_type": "code",
   "execution_count": 50,
   "metadata": {},
   "outputs": [],
   "source": [
    "#pomijane słowa\n",
    "slowa = word_tokenize(tekst)\n",
    "pomijane = set(content_list)"
   ]
  },
  {
   "cell_type": "code",
   "execution_count": 51,
   "metadata": {},
   "outputs": [],
   "source": [
    "#słowa bez pomijanych\n",
    "lista = []\n",
    "for slowo in slowa:\n",
    "    if slowo.casefold() not in pomijane:\n",
    "        lista.append(slowo)"
   ]
  },
  {
   "cell_type": "code",
   "execution_count": 52,
   "metadata": {},
   "outputs": [
    {
     "name": "stdout",
     "output_type": "stream",
     "text": [
      "['Człowiek', 'zrozumieć', 'język', 'zanim', 'nauczy', 'czytać', 'Maszyny', 'fonetycznego', 'początku', 'wiedząc', 'języku', 'opracować', 'systemy', 'umożliwią', 'przetwarzanie', 'tekstu', 'zdolności', 'podobnie', 'ludzi', 'kojarzenia', 'dźwięków', 'znaczeniem', 'słów', 'maszyny', 'rozpocząć', 'przetwarzanie', 'tekstu', 'wiedzą', 'gramatyce', 'dźwiękach', 'słowach', 'zdaniach', 'Możesz', 'tworzyć', 'reguły', 'każą', 'maszynie', 'przetwarzać', 'tekst', 'umożliwić', 'wyszukiwanie', 'typu', 'słownikowego', 'scenariuszu', 'maszyna', 'niczego', 'uczy', 'musiałbyś', 'mieć', 'statyczny', 'zestaw', 'danych', 'każdej', 'możliwej', 'kombinacji', 'słów', 'wariantów', 'gramatycznych', 'Zamiast', 'trenować', 'maszynę', 'wyszukiwania', 'ustalonych', 'słowników', 'nauczyć', 'maszyny', 'rozpoznawania', '„', 'czytania', '”', 'tekstu', 'mógł', 'uczyć', 'podstawie', 'akcji', 'Innymi', 'słowy', 'czyta', 'uczy', 'Ludzie', 'robią', 'wykorzystując', 'wcześniej', 'nauczyli', 'dźwięków', 'fonetycznych', 'Maszyny', 'wiedzy', 'wykorzystać', 'powiedzieć', 'podzielić', 'tekst', 'standardowe', 'jednostki', 'przetworzyć', 'Robią', 'pomocą', 'systemu', 'zwanego', '„', 'tokenizacją', '”', 'sekwencje', 'tekstu', 'dzielone', 'mniejsze', 'części', '„', 'tokeny', '”', 'następnie', 'wprowadzane', 'dane', 'wejściowe', 'modelu', 'głębokiego', 'uczenia', 'NLP', 'takiego', 'BERT', 'zanim', 'przyjrzymy', 'różnym', 'sposobom', 'tokenizacji', 'tekstu', 'najpierw', 'sprawdźmy', 'naprawdę', 'musimy', 'ogóle', 'używać', 'tokenizacji']\n"
     ]
    }
   ],
   "source": [
    "print(lista)"
   ]
  },
  {
   "cell_type": "code",
   "execution_count": 53,
   "metadata": {},
   "outputs": [],
   "source": [
    "#tworzenie słownika\n",
    "wordcount = dict()"
   ]
  },
  {
   "cell_type": "code",
   "execution_count": 54,
   "metadata": {},
   "outputs": [],
   "source": [
    "#zliczanie wystąpień\n",
    "for slowo in lista:\n",
    "    if slowo in wordcount:\n",
    "        wordcount[slowo] += 1\n",
    "    else:\n",
    "        wordcount[slowo] = 1"
   ]
  },
  {
   "cell_type": "code",
   "execution_count": 55,
   "metadata": {},
   "outputs": [
    {
     "data": {
      "text/plain": [
       "{'Człowiek': 1,\n",
       " 'zrozumieć': 1,\n",
       " 'język': 1,\n",
       " 'zanim': 2,\n",
       " 'nauczy': 1,\n",
       " 'czytać': 1,\n",
       " 'Maszyny': 2,\n",
       " 'fonetycznego': 1,\n",
       " 'początku': 1,\n",
       " 'wiedząc': 1,\n",
       " 'języku': 1,\n",
       " 'opracować': 1,\n",
       " 'systemy': 1,\n",
       " 'umożliwią': 1,\n",
       " 'przetwarzanie': 2,\n",
       " 'tekstu': 5,\n",
       " 'zdolności': 1,\n",
       " 'podobnie': 1,\n",
       " 'ludzi': 1,\n",
       " 'kojarzenia': 1,\n",
       " 'dźwięków': 2,\n",
       " 'znaczeniem': 1,\n",
       " 'słów': 2,\n",
       " 'maszyny': 2,\n",
       " 'rozpocząć': 1,\n",
       " 'wiedzą': 1,\n",
       " 'gramatyce': 1,\n",
       " 'dźwiękach': 1,\n",
       " 'słowach': 1,\n",
       " 'zdaniach': 1,\n",
       " 'Możesz': 1,\n",
       " 'tworzyć': 1,\n",
       " 'reguły': 1,\n",
       " 'każą': 1,\n",
       " 'maszynie': 1,\n",
       " 'przetwarzać': 1,\n",
       " 'tekst': 2,\n",
       " 'umożliwić': 1,\n",
       " 'wyszukiwanie': 1,\n",
       " 'typu': 1,\n",
       " 'słownikowego': 1,\n",
       " 'scenariuszu': 1,\n",
       " 'maszyna': 1,\n",
       " 'niczego': 1,\n",
       " 'uczy': 2,\n",
       " 'musiałbyś': 1,\n",
       " 'mieć': 1,\n",
       " 'statyczny': 1,\n",
       " 'zestaw': 1,\n",
       " 'danych': 1,\n",
       " 'każdej': 1,\n",
       " 'możliwej': 1,\n",
       " 'kombinacji': 1,\n",
       " 'wariantów': 1,\n",
       " 'gramatycznych': 1,\n",
       " 'Zamiast': 1,\n",
       " 'trenować': 1,\n",
       " 'maszynę': 1,\n",
       " 'wyszukiwania': 1,\n",
       " 'ustalonych': 1,\n",
       " 'słowników': 1,\n",
       " 'nauczyć': 1,\n",
       " 'rozpoznawania': 1,\n",
       " '„': 3,\n",
       " 'czytania': 1,\n",
       " '”': 3,\n",
       " 'mógł': 1,\n",
       " 'uczyć': 1,\n",
       " 'podstawie': 1,\n",
       " 'akcji': 1,\n",
       " 'Innymi': 1,\n",
       " 'słowy': 1,\n",
       " 'czyta': 1,\n",
       " 'Ludzie': 1,\n",
       " 'robią': 1,\n",
       " 'wykorzystując': 1,\n",
       " 'wcześniej': 1,\n",
       " 'nauczyli': 1,\n",
       " 'fonetycznych': 1,\n",
       " 'wiedzy': 1,\n",
       " 'wykorzystać': 1,\n",
       " 'powiedzieć': 1,\n",
       " 'podzielić': 1,\n",
       " 'standardowe': 1,\n",
       " 'jednostki': 1,\n",
       " 'przetworzyć': 1,\n",
       " 'Robią': 1,\n",
       " 'pomocą': 1,\n",
       " 'systemu': 1,\n",
       " 'zwanego': 1,\n",
       " 'tokenizacją': 1,\n",
       " 'sekwencje': 1,\n",
       " 'dzielone': 1,\n",
       " 'mniejsze': 1,\n",
       " 'części': 1,\n",
       " 'tokeny': 1,\n",
       " 'następnie': 1,\n",
       " 'wprowadzane': 1,\n",
       " 'dane': 1,\n",
       " 'wejściowe': 1,\n",
       " 'modelu': 1,\n",
       " 'głębokiego': 1,\n",
       " 'uczenia': 1,\n",
       " 'NLP': 1,\n",
       " 'takiego': 1,\n",
       " 'BERT': 1,\n",
       " 'przyjrzymy': 1,\n",
       " 'różnym': 1,\n",
       " 'sposobom': 1,\n",
       " 'tokenizacji': 2,\n",
       " 'najpierw': 1,\n",
       " 'sprawdźmy': 1,\n",
       " 'naprawdę': 1,\n",
       " 'musimy': 1,\n",
       " 'ogóle': 1,\n",
       " 'używać': 1}"
      ]
     },
     "execution_count": 55,
     "metadata": {},
     "output_type": "execute_result"
    }
   ],
   "source": [
    "wordcount"
   ]
  },
  {
   "cell_type": "code",
   "execution_count": 57,
   "metadata": {},
   "outputs": [],
   "source": [
    "del wordcount['„']\n",
    "del wordcount['”']"
   ]
  },
  {
   "cell_type": "markdown",
   "metadata": {},
   "source": [
    "# Liczba wystąpień danego słowa rosnąco:"
   ]
  },
  {
   "cell_type": "code",
   "execution_count": 58,
   "metadata": {},
   "outputs": [
    {
     "data": {
      "text/plain": [
       "{'Człowiek': 1,\n",
       " 'zrozumieć': 1,\n",
       " 'język': 1,\n",
       " 'nauczy': 1,\n",
       " 'czytać': 1,\n",
       " 'fonetycznego': 1,\n",
       " 'początku': 1,\n",
       " 'wiedząc': 1,\n",
       " 'języku': 1,\n",
       " 'opracować': 1,\n",
       " 'systemy': 1,\n",
       " 'umożliwią': 1,\n",
       " 'zdolności': 1,\n",
       " 'podobnie': 1,\n",
       " 'ludzi': 1,\n",
       " 'kojarzenia': 1,\n",
       " 'znaczeniem': 1,\n",
       " 'rozpocząć': 1,\n",
       " 'wiedzą': 1,\n",
       " 'gramatyce': 1,\n",
       " 'dźwiękach': 1,\n",
       " 'słowach': 1,\n",
       " 'zdaniach': 1,\n",
       " 'Możesz': 1,\n",
       " 'tworzyć': 1,\n",
       " 'reguły': 1,\n",
       " 'każą': 1,\n",
       " 'maszynie': 1,\n",
       " 'przetwarzać': 1,\n",
       " 'umożliwić': 1,\n",
       " 'wyszukiwanie': 1,\n",
       " 'typu': 1,\n",
       " 'słownikowego': 1,\n",
       " 'scenariuszu': 1,\n",
       " 'maszyna': 1,\n",
       " 'niczego': 1,\n",
       " 'musiałbyś': 1,\n",
       " 'mieć': 1,\n",
       " 'statyczny': 1,\n",
       " 'zestaw': 1,\n",
       " 'danych': 1,\n",
       " 'każdej': 1,\n",
       " 'możliwej': 1,\n",
       " 'kombinacji': 1,\n",
       " 'wariantów': 1,\n",
       " 'gramatycznych': 1,\n",
       " 'Zamiast': 1,\n",
       " 'trenować': 1,\n",
       " 'maszynę': 1,\n",
       " 'wyszukiwania': 1,\n",
       " 'ustalonych': 1,\n",
       " 'słowników': 1,\n",
       " 'nauczyć': 1,\n",
       " 'rozpoznawania': 1,\n",
       " 'czytania': 1,\n",
       " 'mógł': 1,\n",
       " 'uczyć': 1,\n",
       " 'podstawie': 1,\n",
       " 'akcji': 1,\n",
       " 'Innymi': 1,\n",
       " 'słowy': 1,\n",
       " 'czyta': 1,\n",
       " 'Ludzie': 1,\n",
       " 'robią': 1,\n",
       " 'wykorzystując': 1,\n",
       " 'wcześniej': 1,\n",
       " 'nauczyli': 1,\n",
       " 'fonetycznych': 1,\n",
       " 'wiedzy': 1,\n",
       " 'wykorzystać': 1,\n",
       " 'powiedzieć': 1,\n",
       " 'podzielić': 1,\n",
       " 'standardowe': 1,\n",
       " 'jednostki': 1,\n",
       " 'przetworzyć': 1,\n",
       " 'Robią': 1,\n",
       " 'pomocą': 1,\n",
       " 'systemu': 1,\n",
       " 'zwanego': 1,\n",
       " 'tokenizacją': 1,\n",
       " 'sekwencje': 1,\n",
       " 'dzielone': 1,\n",
       " 'mniejsze': 1,\n",
       " 'części': 1,\n",
       " 'tokeny': 1,\n",
       " 'następnie': 1,\n",
       " 'wprowadzane': 1,\n",
       " 'dane': 1,\n",
       " 'wejściowe': 1,\n",
       " 'modelu': 1,\n",
       " 'głębokiego': 1,\n",
       " 'uczenia': 1,\n",
       " 'NLP': 1,\n",
       " 'takiego': 1,\n",
       " 'BERT': 1,\n",
       " 'przyjrzymy': 1,\n",
       " 'różnym': 1,\n",
       " 'sposobom': 1,\n",
       " 'najpierw': 1,\n",
       " 'sprawdźmy': 1,\n",
       " 'naprawdę': 1,\n",
       " 'musimy': 1,\n",
       " 'ogóle': 1,\n",
       " 'używać': 1,\n",
       " 'zanim': 2,\n",
       " 'Maszyny': 2,\n",
       " 'przetwarzanie': 2,\n",
       " 'dźwięków': 2,\n",
       " 'słów': 2,\n",
       " 'maszyny': 2,\n",
       " 'tekst': 2,\n",
       " 'uczy': 2,\n",
       " 'tokenizacji': 2,\n",
       " 'tekstu': 5}"
      ]
     },
     "execution_count": 58,
     "metadata": {},
     "output_type": "execute_result"
    }
   ],
   "source": [
    "dict(sorted(wordcount.items(), key=lambda item: item[1]))"
   ]
  },
  {
   "cell_type": "markdown",
   "metadata": {},
   "source": [
    "# Liczba wystąpień 10 najczęściej występujących słów:"
   ]
  },
  {
   "cell_type": "code",
   "execution_count": 71,
   "metadata": {},
   "outputs": [
    {
     "data": {
      "text/plain": [
       "[('tekstu', 5),\n",
       " ('zanim', 2),\n",
       " ('Maszyny', 2),\n",
       " ('przetwarzanie', 2),\n",
       " ('dźwięków', 2),\n",
       " ('słów', 2),\n",
       " ('maszyny', 2),\n",
       " ('tekst', 2),\n",
       " ('uczy', 2),\n",
       " ('tokenizacji', 2)]"
      ]
     },
     "execution_count": 71,
     "metadata": {},
     "output_type": "execute_result"
    }
   ],
   "source": [
    "sorted(wordcount.items(),key=lambda x:-x[1])[:10]"
   ]
  },
  {
   "cell_type": "code",
   "execution_count": 73,
   "metadata": {},
   "outputs": [
    {
     "data": {
      "image/png": "[encoded data removed]",
      "text/plain": [
       "<Figure size 1440x1440 with 1 Axes>"
      ]
     },
     "metadata": {
      "needs_background": "light"
     },
     "output_type": "display_data"
    }
   ],
   "source": [
    "import matplotlib.pylab as plt\n",
    "\n",
    "lists = sorted(wordcount.items(),key=lambda x:-x[1])[:10]\n",
    "\n",
    "x, y = zip(*lists)\n",
    "\n",
    "plt.rcParams[\"figure.figsize\"]=20,20\n",
    "plt.bar(x, y)\n",
    "plt.show()"
   ]
  },
  {
   "cell_type": "code",
   "execution_count": null,
   "metadata": {},
   "outputs": [],
   "source": []
  }
 ],
 "metadata": {
  "kernelspec": {
   "display_name": "Python 3",
   "language": "python",
   "name": "python3"
  },
  "language_info": {
   "codemirror_mode": {
    "name": "ipython",
    "version": 3
   },
   "file_extension": ".py",
   "mimetype": "text/x-python",
   "name": "python",
   "nbconvert_exporter": "python",
   "pygments_lexer": "ipython3",
   "version": "3.8.5"
  }
 },
 "nbformat": 4,
 "nbformat_minor": 4
}
